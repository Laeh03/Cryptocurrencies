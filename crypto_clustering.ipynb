Clustering Crypto
# Initial imports
import pandas as pd
import hvplot.pandas
from path import Path
import plotly.express as px
from sklearn.preprocessing import StandardScaler, MinMaxScaler
from sklearn.decomposition import PCA
from sklearn.cluster import KMeans
Deliverable 1: Preprocessing the Data for PCA
# Load the crypto_data.csv dataset.
file_path = "Resources/crypto_data.csv"
crypto_df = pd.read_csv(file_path, index_col=0)
crypto_df.head(10)
CoinName	Algorithm	IsTrading	ProofType	TotalCoinsMined	TotalCoinSupply
42	42 Coin	Scrypt	True	PoW/PoS	4.199995e+01	42
365	365Coin	X11	True	PoW/PoS	NaN	2300000000
404	404Coin	Scrypt	True	PoW/PoS	1.055185e+09	532000000
611	SixEleven	SHA-256	True	PoW	NaN	611000
808	808	SHA-256	True	PoW/PoS	0.000000e+00	0
1337	EliteCoin	X13	True	PoW/PoS	2.927942e+10	314159265359
2015	2015 coin	X11	True	PoW/PoS	NaN	0
BTC	Bitcoin	SHA-256	True	PoW	1.792718e+07	21000000
ETH	Ethereum	Ethash	True	PoW	1.076842e+08	0
LTC	Litecoin	Scrypt	True	PoW	6.303924e+07	84000000
crypto_df.shape
(1252, 6)
# Keep all the cryptocurrencies that are being traded.
crypto_df = crypto_df[crypto_df.IsTrading != 0]
print(crypto_df.shape)
crypto_df.head(10)
(1144, 6)
CoinName	Algorithm	IsTrading	ProofType	TotalCoinsMined	TotalCoinSupply
42	42 Coin	Scrypt	True	PoW/PoS	4.199995e+01	42
365	365Coin	X11	True	PoW/PoS	NaN	2300000000
404	404Coin	Scrypt	True	PoW/PoS	1.055185e+09	532000000
611	SixEleven	SHA-256	True	PoW	NaN	611000
808	808	SHA-256	True	PoW/PoS	0.000000e+00	0
1337	EliteCoin	X13	True	PoW/PoS	2.927942e+10	314159265359
2015	2015 coin	X11	True	PoW/PoS	NaN	0
BTC	Bitcoin	SHA-256	True	PoW	1.792718e+07	21000000
ETH	Ethereum	Ethash	True	PoW	1.076842e+08	0
LTC	Litecoin	Scrypt	True	PoW	6.303924e+07	84000000
# Keep all the cryptocurrencies that have a working algorithm.
crypto_df = crypto_df[crypto_df.Algorithm.isna() == False]
print(crypto_df.shape)
crypto_df.head(10)
(1144, 6)
CoinName	Algorithm	IsTrading	ProofType	TotalCoinsMined	TotalCoinSupply
42	42 Coin	Scrypt	True	PoW/PoS	4.199995e+01	42
365	365Coin	X11	True	PoW/PoS	NaN	2300000000
404	404Coin	Scrypt	True	PoW/PoS	1.055185e+09	532000000
611	SixEleven	SHA-256	True	PoW	NaN	611000
808	808	SHA-256	True	PoW/PoS	0.000000e+00	0
1337	EliteCoin	X13	True	PoW/PoS	2.927942e+10	314159265359
2015	2015 coin	X11	True	PoW/PoS	NaN	0
BTC	Bitcoin	SHA-256	True	PoW	1.792718e+07	21000000
ETH	Ethereum	Ethash	True	PoW	1.076842e+08	0
LTC	Litecoin	Scrypt	True	PoW	6.303924e+07	84000000
# Remove the "IsTrading" column. 
crypto_df = crypto_df.drop(columns="IsTrading")
print(crypto_df.shape)
crypto_df.head(10)
(1144, 5)
CoinName	Algorithm	ProofType	TotalCoinsMined	TotalCoinSupply
42	42 Coin	Scrypt	PoW/PoS	4.199995e+01	42
365	365Coin	X11	PoW/PoS	NaN	2300000000
404	404Coin	Scrypt	PoW/PoS	1.055185e+09	532000000
611	SixEleven	SHA-256	PoW	NaN	611000
808	808	SHA-256	PoW/PoS	0.000000e+00	0
1337	EliteCoin	X13	PoW/PoS	2.927942e+10	314159265359
2015	2015 coin	X11	PoW/PoS	NaN	0
BTC	Bitcoin	SHA-256	PoW	1.792718e+07	21000000
ETH	Ethereum	Ethash	PoW	1.076842e+08	0
LTC	Litecoin	Scrypt	PoW	6.303924e+07	84000000
# Remove rows that have at least 1 null value.
crypto_df = crypto_df[~(crypto_df.isna() == True).any(axis=1)]
print(crypto_df.shape)
crypto_df.head(10)
(685, 5)
CoinName	Algorithm	ProofType	TotalCoinsMined	TotalCoinSupply
42	42 Coin	Scrypt	PoW/PoS	4.199995e+01	42
404	404Coin	Scrypt	PoW/PoS	1.055185e+09	532000000
808	808	SHA-256	PoW/PoS	0.000000e+00	0
1337	EliteCoin	X13	PoW/PoS	2.927942e+10	314159265359
BTC	Bitcoin	SHA-256	PoW	1.792718e+07	21000000
ETH	Ethereum	Ethash	PoW	1.076842e+08	0
LTC	Litecoin	Scrypt	PoW	6.303924e+07	84000000
DASH	Dash	X11	PoW/PoS	9.031294e+06	22000000
XMR	Monero	CryptoNight-V7	PoW	1.720114e+07	0
ETC	Ethereum Classic	Ethash	PoW	1.133597e+08	210000000
# Keep the rows where coins are mined.
crypto_df = crypto_df[~(crypto_df.TotalCoinsMined <= 0)]
print(crypto_df.shape)
crypto_df.head(10)
(532, 5)
CoinName	Algorithm	ProofType	TotalCoinsMined	TotalCoinSupply
42	42 Coin	Scrypt	PoW/PoS	4.199995e+01	42
404	404Coin	Scrypt	PoW/PoS	1.055185e+09	532000000
1337	EliteCoin	X13	PoW/PoS	2.927942e+10	314159265359
BTC	Bitcoin	SHA-256	PoW	1.792718e+07	21000000
ETH	Ethereum	Ethash	PoW	1.076842e+08	0
LTC	Litecoin	Scrypt	PoW	6.303924e+07	84000000
DASH	Dash	X11	PoW/PoS	9.031294e+06	22000000
XMR	Monero	CryptoNight-V7	PoW	1.720114e+07	0
ETC	Ethereum Classic	Ethash	PoW	1.133597e+08	210000000
ZEC	ZCash	Equihash	PoW	7.383056e+06	21000000
# Create a new DataFrame that holds only the cryptocurrencies names.
crypto_name_df = pd.DataFrame(crypto_df.CoinName)
print(crypto_name_df.shape)
crypto_name_df.head()
(532, 1)
CoinName
42	42 Coin
404	404Coin
1337	EliteCoin
BTC	Bitcoin
ETH	Ethereum
# Drop the 'CoinName' column since it's not going to be used on the clustering algorithm.
crypto_df = crypto_df.drop(columns="CoinName")
print(crypto_df.shape)
crypto_df.head(10)
(532, 4)
Algorithm	ProofType	TotalCoinsMined	TotalCoinSupply
42	Scrypt	PoW/PoS	4.199995e+01	42
404	Scrypt	PoW/PoS	1.055185e+09	532000000
1337	X13	PoW/PoS	2.927942e+10	314159265359
BTC	SHA-256	PoW	1.792718e+07	21000000
ETH	Ethash	PoW	1.076842e+08	0
LTC	Scrypt	PoW	6.303924e+07	84000000
DASH	X11	PoW/PoS	9.031294e+06	22000000
XMR	CryptoNight-V7	PoW	1.720114e+07	0
ETC	Ethash	PoW	1.133597e+08	210000000
ZEC	Equihash	PoW	7.383056e+06	21000000
# Use get_dummies() to create variables for text features.
X = pd.get_dummies(crypto_df, columns=["Algorithm", "ProofType"])
print(X.shape)
X.head(10)
(532, 98)
TotalCoinsMined	TotalCoinSupply	Algorithm_1GB AES Pattern Search	Algorithm_536	Algorithm_Argon2d	Algorithm_BLAKE256	Algorithm_Blake	Algorithm_Blake2S	Algorithm_Blake2b	Algorithm_C11	...	ProofType_PoW/PoS	ProofType_PoW/PoS	ProofType_PoW/PoW	ProofType_PoW/nPoS	ProofType_Pos	ProofType_Proof of Authority	ProofType_Proof of Trust	ProofType_TPoS	ProofType_Zero-Knowledge Proof	ProofType_dPoW/PoW
42	4.199995e+01	42	0	0	0	0	0	0	0	0	...	1	0	0	0	0	0	0	0	0	0
404	1.055185e+09	532000000	0	0	0	0	0	0	0	0	...	1	0	0	0	0	0	0	0	0	0
1337	2.927942e+10	314159265359	0	0	0	0	0	0	0	0	...	1	0	0	0	0	0	0	0	0	0
BTC	1.792718e+07	21000000	0	0	0	0	0	0	0	0	...	0	0	0	0	0	0	0	0	0	0
ETH	1.076842e+08	0	0	0	0	0	0	0	0	0	...	0	0	0	0	0	0	0	0	0	0
LTC	6.303924e+07	84000000	0	0	0	0	0	0	0	0	...	0	0	0	0	0	0	0	0	0	0
DASH	9.031294e+06	22000000	0	0	0	0	0	0	0	0	...	1	0	0	0	0	0	0	0	0	0
XMR	1.720114e+07	0	0	0	0	0	0	0	0	0	...	0	0	0	0	0	0	0	0	0	0
ETC	1.133597e+08	210000000	0	0	0	0	0	0	0	0	...	0	0	0	0	0	0	0	0	0	0
ZEC	7.383056e+06	21000000	0	0	0	0	0	0	0	0	...	0	0	0	0	0	0	0	0	0	0
10 rows × 98 columns

# Standardize the data with StandardScaler().
scaler = StandardScaler()
crypto_scaled = scaler.fit_transform(X)
crypto_scaled[0:5]
array([[-0.11710817, -0.1528703 , -0.0433963 , -0.0433963 , -0.0433963 ,
        -0.06142951, -0.07530656, -0.0433963 , -0.06142951, -0.06142951,
        -0.0433963 , -0.0433963 , -0.19245009, -0.06142951, -0.09740465,
        -0.0433963 , -0.11547005, -0.07530656, -0.0433963 , -0.0433963 ,
        -0.15191091, -0.0433963 , -0.13118084, -0.0433963 , -0.0433963 ,
        -0.08703883, -0.0433963 , -0.0433963 , -0.0433963 , -0.0433963 ,
        -0.06142951, -0.0433963 , -0.08703883, -0.08703883, -0.08703883,
        -0.0433963 , -0.13118084, -0.13840913, -0.13840913, -0.0433963 ,
        -0.06142951, -0.0433963 , -0.07530656, -0.18168574, -0.0433963 ,
        -0.0433963 , -0.0433963 , -0.07530656, -0.15826614, -0.31491833,
        -0.0433963 , -0.08703883, -0.07530656, -0.06142951,  1.38675049,
        -0.0433963 , -0.0433963 , -0.06142951, -0.0433963 , -0.0433963 ,
        -0.0433963 , -0.0433963 , -0.0433963 , -0.0433963 , -0.0433963 ,
        -0.0433963 , -0.39879994, -0.0433963 , -0.18168574, -0.0433963 ,
        -0.08703883, -0.08703883, -0.10680283, -0.0433963 , -0.13118084,
        -0.0433963 , -0.0433963 , -0.0433963 , -0.0433963 , -0.07530656,
        -0.43911856, -0.0433963 , -0.06142951, -0.0433963 , -0.0433963 ,
        -0.89632016, -0.0433963 , -0.0433963 ,  1.42222617, -0.0433963 ,
        -0.0433963 , -0.0433963 , -0.0433963 , -0.0433963 , -0.0433963 ,
        -0.0433963 , -0.0433963 , -0.0433963 ],
       [-0.09396955, -0.145009  , -0.0433963 , -0.0433963 , -0.0433963 ,
        -0.06142951, -0.07530656, -0.0433963 , -0.06142951, -0.06142951,
        -0.0433963 , -0.0433963 , -0.19245009, -0.06142951, -0.09740465,
        -0.0433963 , -0.11547005, -0.07530656, -0.0433963 , -0.0433963 ,
        -0.15191091, -0.0433963 , -0.13118084, -0.0433963 , -0.0433963 ,
        -0.08703883, -0.0433963 , -0.0433963 , -0.0433963 , -0.0433963 ,
        -0.06142951, -0.0433963 , -0.08703883, -0.08703883, -0.08703883,
        -0.0433963 , -0.13118084, -0.13840913, -0.13840913, -0.0433963 ,
        -0.06142951, -0.0433963 , -0.07530656, -0.18168574, -0.0433963 ,
        -0.0433963 , -0.0433963 , -0.07530656, -0.15826614, -0.31491833,
        -0.0433963 , -0.08703883, -0.07530656, -0.06142951,  1.38675049,
        -0.0433963 , -0.0433963 , -0.06142951, -0.0433963 , -0.0433963 ,
        -0.0433963 , -0.0433963 , -0.0433963 , -0.0433963 , -0.0433963 ,
        -0.0433963 , -0.39879994, -0.0433963 , -0.18168574, -0.0433963 ,
        -0.08703883, -0.08703883, -0.10680283, -0.0433963 , -0.13118084,
        -0.0433963 , -0.0433963 , -0.0433963 , -0.0433963 , -0.07530656,
        -0.43911856, -0.0433963 , -0.06142951, -0.0433963 , -0.0433963 ,
        -0.89632016, -0.0433963 , -0.0433963 ,  1.42222617, -0.0433963 ,
        -0.0433963 , -0.0433963 , -0.0433963 , -0.0433963 , -0.0433963 ,
        -0.0433963 , -0.0433963 , -0.0433963 ],
       [ 0.52494561,  4.48942416, -0.0433963 , -0.0433963 , -0.0433963 ,
        -0.06142951, -0.07530656, -0.0433963 , -0.06142951, -0.06142951,
        -0.0433963 , -0.0433963 , -0.19245009, -0.06142951, -0.09740465,
        -0.0433963 , -0.11547005, -0.07530656, -0.0433963 , -0.0433963 ,
        -0.15191091, -0.0433963 , -0.13118084, -0.0433963 , -0.0433963 ,
        -0.08703883, -0.0433963 , -0.0433963 , -0.0433963 , -0.0433963 ,
        -0.06142951, -0.0433963 , -0.08703883, -0.08703883, -0.08703883,
        -0.0433963 , -0.13118084, -0.13840913, -0.13840913, -0.0433963 ,
        -0.06142951, -0.0433963 , -0.07530656, -0.18168574, -0.0433963 ,
        -0.0433963 , -0.0433963 , -0.07530656, -0.15826614, -0.31491833,
        -0.0433963 , -0.08703883, -0.07530656, -0.06142951, -0.72111026,
        -0.0433963 , -0.0433963 , -0.06142951, -0.0433963 , -0.0433963 ,
        -0.0433963 , -0.0433963 , -0.0433963 , -0.0433963 , -0.0433963 ,
        -0.0433963 , -0.39879994, -0.0433963 ,  5.50400923, -0.0433963 ,
        -0.08703883, -0.08703883, -0.10680283, -0.0433963 , -0.13118084,
        -0.0433963 , -0.0433963 , -0.0433963 , -0.0433963 , -0.07530656,
        -0.43911856, -0.0433963 , -0.06142951, -0.0433963 , -0.0433963 ,
        -0.89632016, -0.0433963 , -0.0433963 ,  1.42222617, -0.0433963 ,
        -0.0433963 , -0.0433963 , -0.0433963 , -0.0433963 , -0.0433963 ,
        -0.0433963 , -0.0433963 , -0.0433963 ],
       [-0.11671506, -0.15255998, -0.0433963 , -0.0433963 , -0.0433963 ,
        -0.06142951, -0.07530656, -0.0433963 , -0.06142951, -0.06142951,
        -0.0433963 , -0.0433963 , -0.19245009, -0.06142951, -0.09740465,
        -0.0433963 , -0.11547005, -0.07530656, -0.0433963 , -0.0433963 ,
        -0.15191091, -0.0433963 , -0.13118084, -0.0433963 , -0.0433963 ,
        -0.08703883, -0.0433963 , -0.0433963 , -0.0433963 , -0.0433963 ,
        -0.06142951, -0.0433963 , -0.08703883, -0.08703883, -0.08703883,
        -0.0433963 , -0.13118084, -0.13840913, -0.13840913, -0.0433963 ,
        -0.06142951, -0.0433963 , -0.07530656, -0.18168574, -0.0433963 ,
        -0.0433963 , -0.0433963 , -0.07530656, -0.15826614,  3.17542648,
        -0.0433963 , -0.08703883, -0.07530656, -0.06142951, -0.72111026,
        -0.0433963 , -0.0433963 , -0.06142951, -0.0433963 , -0.0433963 ,
        -0.0433963 , -0.0433963 , -0.0433963 , -0.0433963 , -0.0433963 ,
        -0.0433963 , -0.39879994, -0.0433963 , -0.18168574, -0.0433963 ,
        -0.08703883, -0.08703883, -0.10680283, -0.0433963 , -0.13118084,
        -0.0433963 , -0.0433963 , -0.0433963 , -0.0433963 , -0.07530656,
        -0.43911856, -0.0433963 , -0.06142951, -0.0433963 , -0.0433963 ,
         1.11567277, -0.0433963 , -0.0433963 , -0.70312305, -0.0433963 ,
        -0.0433963 , -0.0433963 , -0.0433963 , -0.0433963 , -0.0433963 ,
        -0.0433963 , -0.0433963 , -0.0433963 ],
       [-0.11474682, -0.1528703 , -0.0433963 , -0.0433963 , -0.0433963 ,
        -0.06142951, -0.07530656, -0.0433963 , -0.06142951, -0.06142951,
        -0.0433963 , -0.0433963 , -0.19245009, -0.06142951, -0.09740465,
        -0.0433963 , -0.11547005, -0.07530656, -0.0433963 , -0.0433963 ,
        -0.15191091, -0.0433963 ,  7.62306442, -0.0433963 , -0.0433963 ,
        -0.08703883, -0.0433963 , -0.0433963 , -0.0433963 , -0.0433963 ,
        -0.06142951, -0.0433963 , -0.08703883, -0.08703883, -0.08703883,
        -0.0433963 , -0.13118084, -0.13840913, -0.13840913, -0.0433963 ,
        -0.06142951, -0.0433963 , -0.07530656, -0.18168574, -0.0433963 ,
        -0.0433963 , -0.0433963 , -0.07530656, -0.15826614, -0.31491833,
        -0.0433963 , -0.08703883, -0.07530656, -0.06142951, -0.72111026,
        -0.0433963 , -0.0433963 , -0.06142951, -0.0433963 , -0.0433963 ,
        -0.0433963 , -0.0433963 , -0.0433963 , -0.0433963 , -0.0433963 ,
        -0.0433963 , -0.39879994, -0.0433963 , -0.18168574, -0.0433963 ,
        -0.08703883, -0.08703883, -0.10680283, -0.0433963 , -0.13118084,
        -0.0433963 , -0.0433963 , -0.0433963 , -0.0433963 , -0.07530656,
        -0.43911856, -0.0433963 , -0.06142951, -0.0433963 , -0.0433963 ,
         1.11567277, -0.0433963 , -0.0433963 , -0.70312305, -0.0433963 ,
        -0.0433963 , -0.0433963 , -0.0433963 , -0.0433963 , -0.0433963 ,
        -0.0433963 , -0.0433963 , -0.0433963 ]])
Deliverable 2: Reducing Data Dimensions Using PCA
# Using PCA to reduce dimension to three principal components.
pca = PCA(n_components=3)
crypto_pca = pca.fit_transform(crypto_scaled)
crypto_pca
array([[-0.34235762,  1.04945773, -0.47392919],
       [-0.32567063,  1.04950727, -0.47409494],
       [ 2.34431751,  1.60320063, -0.52421273],
       ...,
       [ 0.3300562 , -2.35070499,  0.28663687],
       [-0.1464347 , -2.01938397,  0.43883537],
       [-0.32544578,  0.90619452, -0.16927041]])
# Create a DataFrame with the three principal components.
pcs_df = pd.DataFrame(crypto_pca, columns=["PC 1", "PC 2", "PC 3"], index=crypto_name_df.index)
print(pcs_df.shape)
pcs_df.head(10)
(532, 3)
PC 1	PC 2	PC 3
42	-0.342358	1.049458	-0.473929
404	-0.325671	1.049507	-0.474095
1337	2.344318	1.603201	-0.524213
BTC	-0.157351	-1.308636	0.133401
ETH	-0.151150	-2.108030	0.242889
LTC	-0.185734	-1.106963	-0.038545
DASH	-0.357418	1.217218	-0.409984
XMR	-0.150604	-2.241418	0.291100
ETC	-0.149589	-2.108146	0.242872
ZEC	-0.146434	-2.019384	0.438835
Deliverable 3: Clustering Crytocurrencies Using K-Means
Finding the Best Value for k Using the Elbow Curve
# Create an elbow curve to find the best value for K.

# Initialize empty inertia list
inertia = []
# Initialize k range
k = list(range(1,11))
# Looping through k list
for i in k:
    km = KMeans(n_clusters=i, random_state=0)
    km.fit(pcs_df)
    inertia.append(km.inertia_)

# Define a DataFrame to plot the Elbow Curve using hvPlot
elbow_data = {"k": k, "inertia": inertia}
elbow_df = pd.DataFrame(elbow_data)
elbow_df.hvplot.line(x="k", y="inertia", title="Elbow Curve", xticks=k)
Running K-Means with k=4

# Initialize the K-Means model.
km_model = KMeans(n_clusters=4, random_state=0)

# Fit the model
km_model.fit(pcs_df)

# Predict clusters
predictions = km_model.predict(pcs_df)
predictions
array([0, 0, 0, 1, 1, 1, 0, 1, 1, 1, 0, 1, 0, 0, 1, 0, 1, 1, 0, 0, 1, 1,
       1, 1, 1, 0, 1, 1, 1, 0, 1, 0, 1, 1, 0, 0, 1, 1, 1, 1, 1, 1, 0, 0,
       1, 1, 1, 1, 1, 0, 0, 1, 0, 1, 1, 1, 1, 0, 1, 1, 0, 1, 0, 0, 0, 1,
       1, 1, 0, 0, 0, 0, 0, 1, 1, 1, 0, 0, 1, 0, 1, 0, 0, 1, 1, 1, 1, 0,
       0, 1, 0, 1, 1, 0, 0, 1, 0, 0, 1, 1, 0, 0, 1, 0, 0, 1, 0, 1, 0, 1,
       0, 1, 0, 0, 1, 1, 0, 1, 1, 1, 0, 1, 1, 1, 1, 1, 0, 0, 1, 1, 1, 0,
       1, 0, 1, 1, 0, 1, 0, 1, 0, 0, 1, 1, 0, 1, 1, 0, 0, 1, 0, 1, 0, 0,
       0, 1, 1, 1, 1, 0, 0, 0, 0, 0, 1, 1, 0, 0, 0, 0, 0, 1, 0, 0, 0, 0,
       0, 1, 0, 1, 0, 0, 1, 0, 1, 0, 0, 1, 0, 1, 0, 1, 0, 1, 0, 0, 0, 0,
       1, 0, 0, 0, 0, 0, 1, 1, 0, 0, 1, 1, 0, 0, 0, 0, 0, 1, 0, 0, 0, 0,
       0, 0, 0, 0, 1, 0, 0, 0, 0, 0, 0, 1, 1, 1, 0, 0, 0, 0, 1, 0, 1, 0,
       0, 1, 0, 1, 1, 0, 1, 1, 0, 1, 0, 0, 0, 1, 0, 0, 1, 0, 0, 0, 0, 0,
       0, 0, 1, 0, 1, 0, 0, 0, 0, 1, 0, 1, 0, 1, 1, 1, 1, 0, 1, 0, 0, 1,
       0, 1, 1, 1, 0, 1, 0, 1, 1, 1, 0, 1, 0, 1, 0, 0, 0, 1, 0, 1, 1, 1,
       1, 1, 0, 0, 1, 0, 0, 0, 1, 0, 1, 0, 1, 0, 1, 0, 0, 0, 0, 1, 0, 0,
       1, 0, 0, 0, 1, 1, 1, 1, 0, 0, 0, 0, 1, 0, 1, 1, 1, 0, 0, 1, 1, 0,
       0, 1, 0, 1, 1, 1, 0, 1, 1, 0, 0, 0, 1, 1, 1, 0, 0, 0, 1, 1, 0, 1,
       1, 1, 1, 0, 3, 3, 1, 1, 1, 0, 0, 0, 0, 0, 0, 1, 1, 1, 1, 0, 0, 0,
       1, 0, 1, 0, 0, 0, 0, 1, 0, 0, 1, 0, 0, 1, 1, 0, 1, 0, 1, 1, 1, 1,
       0, 0, 1, 0, 1, 0, 0, 0, 0, 0, 0, 1, 1, 1, 0, 0, 0, 0, 0, 0, 1, 0,
       1, 1, 1, 1, 0, 0, 0, 0, 1, 0, 0, 1, 0, 0, 1, 3, 1, 0, 1, 1, 0, 0,
       1, 0, 1, 1, 0, 1, 1, 0, 1, 0, 1, 0, 0, 1, 0, 0, 0, 0, 0, 1, 1, 1,
       0, 0, 0, 1, 0, 1, 0, 1, 0, 0, 0, 0, 1, 0, 0, 0, 1, 0, 1, 0, 1, 0,
       0, 0, 1, 1, 0, 0, 0, 0, 0, 0, 1, 0, 1, 0, 1, 0, 0, 3, 0, 2, 0, 0,
       0, 1, 1, 0], dtype=int32)
# Create a new DataFrame including predicted clusters and cryptocurrencies features.
# Concatentate the crypto_df and pcs_df DataFrames on the same columns.
clustered_df = pd.concat([crypto_df, pcs_df], axis=1, join='inner')

#  Add a new column, "CoinName" to the clustered_df DataFrame that holds the names of the cryptocurrencies. 
clustered_df["CoinName"] = crypto_name_df.CoinName

#  Add a new column, "Class" to the clustered_df DataFrame that holds the predictions.
clustered_df["Class"] = km_model.labels_

# Print the shape of the clustered_df
print(clustered_df.shape)
clustered_df.head(10)
(532, 9)
Algorithm	ProofType	TotalCoinsMined	TotalCoinSupply	PC 1	PC 2	PC 3	CoinName	Class
42	Scrypt	PoW/PoS	4.199995e+01	42	-0.342358	1.049458	-0.473929	42 Coin	0
404	Scrypt	PoW/PoS	1.055185e+09	532000000	-0.325671	1.049507	-0.474095	404Coin	0
1337	X13	PoW/PoS	2.927942e+10	314159265359	2.344318	1.603201	-0.524213	EliteCoin	0
BTC	SHA-256	PoW	1.792718e+07	21000000	-0.157351	-1.308636	0.133401	Bitcoin	1
ETH	Ethash	PoW	1.076842e+08	0	-0.151150	-2.108030	0.242889	Ethereum	1
LTC	Scrypt	PoW	6.303924e+07	84000000	-0.185734	-1.106963	-0.038545	Litecoin	1
DASH	X11	PoW/PoS	9.031294e+06	22000000	-0.357418	1.217218	-0.409984	Dash	0
XMR	CryptoNight-V7	PoW	1.720114e+07	0	-0.150604	-2.241418	0.291100	Monero	1
ETC	Ethash	PoW	1.133597e+08	210000000	-0.149589	-2.108146	0.242872	Ethereum Classic	1
ZEC	Equihash	PoW	7.383056e+06	21000000	-0.146434	-2.019384	0.438835	ZCash	1
Deliverable 4: Visualizing Cryptocurrencies Results
3D-Scatter with Clusters
# Creating a 3D-Scatter with the PCA data and the clusters
fig = px.scatter_3d(clustered_df, x="PC 1", y="PC 2", z="PC 3", color="Class", symbol="Class", width=800, 
                    hover_name="CoinName", hover_data=["Algorithm"])
fig.update_layout(legend=dict(x=0, y=1))
fig.show()
# Create a table with tradable cryptocurrencies.
tradable_crypto_table = clustered_df.hvplot.table(columns=['CoinName', 'Algorithm', 'ProofType', 'TotalCoinSupply', 
                                                  'TotalCoinsMined', 'Class'], sortable=True, selectable=True)
tradable_crypto_table
# Print the total number of tradable cryptocurrencies.
print(f'There are {len(clustered_df)} tradable cryptocurrencies.')
There are 532 tradable cryptocurrencies.
# Scaling data to create the scatter plot with tradable cryptocurrencies.
X_cluster = clustered_df[['TotalCoinSupply', 'TotalCoinsMined']].copy()
X_cluster_scaled = MinMaxScaler().fit_transform(X_cluster)
X_cluster_scaled
array([[4.20000000e-11, 0.00000000e+00],
       [5.32000000e-04, 1.06585544e-03],
       [3.14159265e-01, 2.95755135e-02],
       ...,
       [1.40022261e-03, 9.90135079e-04],
       [2.10000000e-05, 7.37028150e-06],
       [1.00000000e-06, 1.29582282e-07]])
# Create a new DataFrame that has the scaled data with the clustered_df DataFrame index.
plot_df = pd.DataFrame(X_cluster_scaled, columns=['TotalCoinSupply', 'TotalCoinsMined'], index=clustered_df.index)

# Add the "CoinName" column from the clustered_df DataFrame to the new DataFrame.
plot_df['CoinName'] = clustered_df.CoinName

# Add the "Class" column from the clustered_df DataFrame to the new DataFrame. 
plot_df['Class'] = clustered_df.Class

plot_df.head(10)
TotalCoinSupply	TotalCoinsMined	CoinName	Class
42	4.200000e-11	0.000000	42 Coin	0
404	5.320000e-04	0.001066	404Coin	0
1337	3.141593e-01	0.029576	EliteCoin	0
BTC	2.100000e-05	0.000018	Bitcoin	1
ETH	0.000000e+00	0.000109	Ethereum	1
LTC	8.400000e-05	0.000064	Litecoin	1
DASH	2.200000e-05	0.000009	Dash	0
XMR	0.000000e+00	0.000017	Monero	1
ETC	2.100000e-04	0.000115	Ethereum Classic	1
ZEC	2.100000e-05	0.000007	ZCash	1
# Create a hvplot.scatter plot using x="TotalCoinsMined" and y="TotalCoinSupply".
plot_df.hvplot.scatter(x='TotalCoinsMined', y='TotalCoinSupply', hover_cols='CoinName', by='Class')
# Additional

# PCA with 2 components
# Using PCA to reduce dimension to two principal components.
pca_two = PCA(n_components=2)
crypto_pca_two = pca_two.fit_transform(crypto_scaled)
crypto_pca_two
array([[-0.34504574,  1.06003763],
       [-0.3284088 ,  1.0600846 ],
       [ 2.29420229,  1.5709085 ],
       ...,
       [ 0.32699525, -2.32149636],
       [-0.12461447, -2.15604069],
       [-0.29766637,  0.82018704]])
# Create a DataFrame with the two principal components.
two_pcs_df = pd.DataFrame(crypto_pca_two, columns=["PC 1", "PC 2"], index=crypto_name_df.index)
print(two_pcs_df.shape)
two_pcs_df.head(10)
(532, 2)
PC 1	PC 2
42	-0.345046	1.060038
404	-0.328409	1.060085
1337	2.294202	1.570909
BTC	-0.144588	-1.310900
ETH	-0.156588	-2.027750
LTC	-0.171696	-1.083229
DASH	-0.393100	1.196521
XMR	-0.140378	-2.175163
ETC	-0.155033	-2.027862
ZEC	-0.124613	-2.156041
# Initialize the K-Means model.
km_model_two = KMeans(n_clusters=4, random_state=0)

# Fit the model
km_model_two.fit(two_pcs_df)

# Predict clusters
predictions = km_model_two.predict(two_pcs_df)
predictions
array([0, 0, 3, 1, 1, 1, 0, 1, 1, 1, 0, 1, 0, 0, 1, 0, 1, 1, 0, 0, 1, 3,
       1, 1, 1, 0, 1, 1, 1, 0, 1, 0, 1, 1, 0, 0, 1, 1, 1, 1, 1, 1, 0, 0,
       1, 1, 1, 1, 1, 0, 0, 1, 0, 1, 1, 1, 1, 0, 1, 1, 0, 1, 0, 0, 0, 1,
       1, 1, 0, 0, 0, 0, 0, 1, 1, 1, 0, 0, 1, 0, 1, 0, 0, 1, 1, 1, 1, 0,
       0, 1, 0, 1, 1, 0, 0, 1, 0, 0, 3, 1, 0, 0, 1, 0, 0, 1, 0, 1, 0, 1,
       0, 1, 0, 0, 1, 1, 0, 1, 1, 1, 0, 1, 1, 1, 1, 1, 0, 0, 1, 1, 1, 0,
       1, 0, 1, 1, 0, 1, 0, 1, 0, 0, 1, 1, 0, 1, 1, 0, 0, 1, 0, 1, 0, 0,
       0, 1, 1, 1, 1, 0, 0, 0, 0, 0, 1, 1, 0, 0, 0, 0, 0, 1, 0, 0, 0, 0,
       0, 1, 0, 1, 0, 0, 1, 0, 1, 0, 0, 1, 0, 1, 0, 1, 0, 1, 0, 0, 0, 0,
       1, 0, 0, 0, 0, 0, 1, 1, 3, 0, 1, 1, 0, 0, 0, 0, 0, 1, 0, 0, 0, 0,
       0, 0, 0, 0, 1, 0, 0, 0, 0, 0, 0, 1, 1, 1, 0, 0, 0, 0, 1, 0, 1, 0,
       0, 1, 0, 1, 1, 0, 1, 1, 0, 1, 0, 0, 0, 1, 0, 0, 1, 0, 0, 0, 0, 0,
       0, 0, 1, 0, 1, 0, 0, 0, 0, 1, 0, 1, 0, 1, 1, 1, 1, 0, 1, 0, 0, 1,
       0, 1, 1, 1, 0, 1, 0, 1, 3, 1, 0, 1, 0, 1, 0, 0, 3, 1, 0, 1, 1, 1,
       1, 1, 0, 0, 1, 0, 0, 0, 1, 0, 1, 0, 1, 0, 1, 0, 0, 0, 0, 1, 0, 0,
       1, 0, 0, 0, 1, 1, 1, 1, 0, 3, 0, 0, 1, 0, 1, 1, 1, 0, 0, 1, 1, 0,
       0, 1, 0, 1, 1, 1, 0, 1, 1, 0, 0, 0, 1, 1, 1, 0, 0, 0, 3, 1, 0, 1,
       1, 1, 1, 0, 0, 0, 1, 1, 1, 0, 0, 0, 0, 0, 0, 1, 1, 1, 1, 0, 0, 0,
       1, 0, 1, 0, 0, 0, 3, 1, 0, 0, 1, 0, 0, 1, 1, 0, 1, 0, 1, 1, 1, 1,
       0, 0, 1, 0, 1, 0, 0, 3, 0, 0, 0, 1, 1, 1, 0, 0, 0, 0, 0, 0, 1, 0,
       1, 1, 1, 3, 0, 0, 0, 0, 1, 0, 0, 1, 0, 0, 1, 0, 1, 0, 1, 1, 0, 0,
       1, 0, 1, 1, 1, 1, 1, 0, 1, 0, 1, 0, 0, 1, 0, 0, 0, 0, 0, 1, 1, 1,
       0, 3, 0, 1, 0, 1, 0, 1, 0, 0, 0, 0, 1, 0, 0, 0, 1, 0, 1, 0, 1, 0,
       0, 0, 1, 1, 0, 0, 3, 0, 0, 0, 1, 0, 1, 3, 1, 3, 0, 0, 0, 2, 0, 3,
       0, 1, 1, 0], dtype=int32)
# Create a new DataFrame including predicted clusters and cryptocurrencies features.
two_pcs_clustered_df = pd.concat([crypto_df, two_pcs_df], axis=1, join='inner')

#  Add a new column, "CoinName" to the clustered_df DataFrame that holds the names of the cryptocurrencies. 
two_pcs_clustered_df["CoinName"] = crypto_name_df.CoinName

#  Add a new column, "Class" to the clustered_df DataFrame that holds the predictions.
two_pcs_clustered_df["Class"] = km_model_two.labels_

# Print the shape of the clustered_df
print(two_pcs_clustered_df.shape)
two_pcs_clustered_df.head(10)
(532, 8)
Algorithm	ProofType	TotalCoinsMined	TotalCoinSupply	PC 1	PC 2	CoinName	Class
42	Scrypt	PoW/PoS	4.199995e+01	42	-0.345046	1.060038	42 Coin	0
404	Scrypt	PoW/PoS	1.055185e+09	532000000	-0.328409	1.060085	404Coin	0
1337	X13	PoW/PoS	2.927942e+10	314159265359	2.294202	1.570909	EliteCoin	3
BTC	SHA-256	PoW	1.792718e+07	21000000	-0.144588	-1.310900	Bitcoin	1
ETH	Ethash	PoW	1.076842e+08	0	-0.156588	-2.027750	Ethereum	1
LTC	Scrypt	PoW	6.303924e+07	84000000	-0.171696	-1.083229	Litecoin	1
DASH	X11	PoW/PoS	9.031294e+06	22000000	-0.393100	1.196521	Dash	0
XMR	CryptoNight-V7	PoW	1.720114e+07	0	-0.140378	-2.175163	Monero	1
ETC	Ethash	PoW	1.133597e+08	210000000	-0.155033	-2.027862	Ethereum Classic	1
ZEC	Equihash	PoW	7.383056e+06	21000000	-0.124613	-2.156041	ZCash	1
# Create a hvplot.scatter plot using x="PC 1" and y="PC 2".
two_pcs_clustered_df.hvplot.scatter(x='PC 1', y='PC 2', hover_cols='CoinName', by='Class')
 
